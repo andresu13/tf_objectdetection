{
 "cells": [
  {
   "cell_type": "code",
   "execution_count": null,
   "id": "a7ba063c-3ced-4639-8863-012980564e81",
   "metadata": {},
   "outputs": [],
   "source": [
    "print(\"I am inside the other notebook\")"
   ]
  },
  {
   "cell_type": "code",
   "execution_count": null,
   "id": "743cdf14-77ff-4330-a158-bff41cd51d0b",
   "metadata": {},
   "outputs": [],
   "source": [
    "print(\"This is the second cell\")"
   ]
  }
 ],
 "metadata": {
  "kernelspec": {
   "display_name": "Python 3",
   "language": "python",
   "name": "python3"
  },
  "language_info": {
   "codemirror_mode": {
    "name": "ipython",
    "version": 3
   },
   "file_extension": ".py",
   "mimetype": "text/x-python",
   "name": "python",
   "nbconvert_exporter": "python",
   "pygments_lexer": "ipython3",
   "version": "3.8.0"
  }
 },
 "nbformat": 4,
 "nbformat_minor": 5
}
